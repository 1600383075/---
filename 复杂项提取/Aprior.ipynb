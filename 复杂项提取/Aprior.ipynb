{
 "cells": [
  {
   "cell_type": "code",
   "execution_count": 46,
   "metadata": {
    "ExecuteTime": {
     "end_time": "2020-06-11T06:06:56.125049Z",
     "start_time": "2020-06-11T06:06:56.096128Z"
    },
    "scrolled": true
   },
   "outputs": [
    {
     "name": "stdout",
     "output_type": "stream",
     "text": [
      "D: [{1, 3, 4}, {2, 3, 5}, {1, 2, 3, 5}, {2, 5}]\n",
      "C1: [frozenset({1}), frozenset({2}), frozenset({3}), frozenset({4}), frozenset({5})]\n",
      "L1: [frozenset({5}), frozenset({2}), frozenset({4}), frozenset({3}), frozenset({1})] {frozenset({1}): 0.5, frozenset({3}): 0.75, frozenset({4}): 0.25, frozenset({2}): 0.75, frozenset({5}): 0.75}\n",
      "L [[frozenset({5}), frozenset({2}), frozenset({4}), frozenset({3}), frozenset({1})]]\n",
      "L[k-2]: [frozenset({5}), frozenset({2}), frozenset({4}), frozenset({3}), frozenset({1})]\n",
      "CK [frozenset({2, 5}), frozenset({4, 5}), frozenset({3, 5}), frozenset({1, 5}), frozenset({2, 4}), frozenset({2, 3}), frozenset({1, 2}), frozenset({3, 4}), frozenset({1, 4}), frozenset({1, 3})]\n",
      "CK2 []\n",
      "LK: [frozenset({1, 2}), frozenset({1, 5}), frozenset({2, 3}), frozenset({3, 5}), frozenset({2, 5}), frozenset({1, 3}), frozenset({1, 4}), frozenset({3, 4})]\n",
      "L11: [[frozenset({5}), frozenset({2}), frozenset({4}), frozenset({3}), frozenset({1})], [frozenset({1, 2}), frozenset({1, 5}), frozenset({2, 3}), frozenset({3, 5}), frozenset({2, 5}), frozenset({1, 3}), frozenset({1, 4}), frozenset({3, 4})]]\n",
      "L[k-2]: [frozenset({1, 2}), frozenset({1, 5}), frozenset({2, 3}), frozenset({3, 5}), frozenset({2, 5}), frozenset({1, 3}), frozenset({1, 4}), frozenset({3, 4})]\n",
      "CK [frozenset({1, 2, 5}), frozenset({1, 2, 3}), frozenset({1, 2, 4}), frozenset({1, 3, 5}), frozenset({1, 4, 5}), frozenset({2, 3, 5}), frozenset({3, 4, 5}), frozenset({1, 3, 4})]\n",
      "CK2 [1]\n",
      "LK: [frozenset({1, 3, 5}), frozenset({1, 2, 3}), frozenset({1, 2, 5}), frozenset({2, 3, 5}), frozenset({1, 3, 4})]\n",
      "L11: [[frozenset({5}), frozenset({2}), frozenset({4}), frozenset({3}), frozenset({1})], [frozenset({1, 2}), frozenset({1, 5}), frozenset({2, 3}), frozenset({3, 5}), frozenset({2, 5}), frozenset({1, 3}), frozenset({1, 4}), frozenset({3, 4})], [frozenset({1, 3, 5}), frozenset({1, 2, 3}), frozenset({1, 2, 5}), frozenset({2, 3, 5}), frozenset({1, 3, 4})]]\n",
      "L[k-2]: [frozenset({1, 3, 5}), frozenset({1, 2, 3}), frozenset({1, 2, 5}), frozenset({2, 3, 5}), frozenset({1, 3, 4})]\n",
      "CK [frozenset({1, 3, 4, 5}), frozenset({1, 2, 3, 5})]\n",
      "CK2 [1, 3]\n",
      "LK: [frozenset({1, 2, 3, 5})]\n",
      "L11: [[frozenset({5}), frozenset({2}), frozenset({4}), frozenset({3}), frozenset({1})], [frozenset({1, 2}), frozenset({1, 5}), frozenset({2, 3}), frozenset({3, 5}), frozenset({2, 5}), frozenset({1, 3}), frozenset({1, 4}), frozenset({3, 4})], [frozenset({1, 3, 5}), frozenset({1, 2, 3}), frozenset({1, 2, 5}), frozenset({2, 3, 5}), frozenset({1, 3, 4})], [frozenset({1, 2, 3, 5})]]\n",
      "L[k-2]: [frozenset({1, 2, 3, 5})]\n",
      "CK []\n",
      "CK2 [1, 2, 3]\n",
      "LK: []\n",
      "L11: [[frozenset({5}), frozenset({2}), frozenset({4}), frozenset({3}), frozenset({1})], [frozenset({1, 2}), frozenset({1, 5}), frozenset({2, 3}), frozenset({3, 5}), frozenset({2, 5}), frozenset({1, 3}), frozenset({1, 4}), frozenset({3, 4})], [frozenset({1, 3, 5}), frozenset({1, 2, 3}), frozenset({1, 2, 5}), frozenset({2, 3, 5}), frozenset({1, 3, 4})], [frozenset({1, 2, 3, 5})], []]\n",
      "L [[frozenset({5}), frozenset({2}), frozenset({4}), frozenset({3}), frozenset({1})], [frozenset({1, 2}), frozenset({1, 5}), frozenset({2, 3}), frozenset({3, 5}), frozenset({2, 5}), frozenset({1, 3}), frozenset({1, 4}), frozenset({3, 4})], [frozenset({1, 3, 5}), frozenset({1, 2, 3}), frozenset({1, 2, 5}), frozenset({2, 3, 5}), frozenset({1, 3, 4})], [frozenset({1, 2, 3, 5})], []]\n",
      "suppData: {frozenset({1}): 0.5, frozenset({3}): 0.75, frozenset({4}): 0.25, frozenset({2}): 0.75, frozenset({5}): 0.75, frozenset({3, 4}): 0.25, frozenset({1, 4}): 0.25, frozenset({1, 3}): 0.5, frozenset({2, 5}): 0.75, frozenset({3, 5}): 0.5, frozenset({2, 3}): 0.5, frozenset({1, 5}): 0.25, frozenset({1, 2}): 0.25, frozenset({1, 3, 4}): 0.25, frozenset({2, 3, 5}): 0.5, frozenset({1, 2, 5}): 0.25, frozenset({1, 2, 3}): 0.25, frozenset({1, 3, 5}): 0.25, frozenset({1, 2, 3, 5}): 0.25}\n"
     ]
    }
   ],
   "source": [
    "from numpy import *\n",
    "# 构造数据\n",
    "def loadDataSet():\n",
    "    return [[1, 3, 4], [2, 3, 5], [1, 2, 3, 5], [2, 5]]\n",
    "# 将所有元素转换为frozenset型字典，存放到列表中\n",
    "def createC1(dataSet):#找出所有独立变量如1，2，3\n",
    "    C1 = []\n",
    "    for transaction in dataSet:\n",
    "        for item in transaction:\n",
    "            if not [item] in C1:\n",
    "                C1.append([item])\n",
    "    C1.sort()\n",
    "    # 使用frozenset是为了后面可以将这些值作为字典的键\n",
    "    return list(map(frozenset, C1))  # frozenset一种不可变的集合，set可变集合\n",
    "# 过滤掉不符合支持度的集合\n",
    "# 返回 频繁项集列表retList 所有元素的支持度字典\n",
    "def scanD(D, Ck, minSupport):#计算ck中的变量在D中的出现次数\n",
    "    ssCnt = {}\n",
    "    for tid in D:\n",
    "        for can in Ck:\n",
    "            if can.issubset(tid):   # 判断can是否是tid的《子集》 （这里使用子集的方式来判断两者的关系）\n",
    "                if can not in ssCnt:    # 统计该值在整个记录中满足子集的次数（以字典的形式记录，frozenset为键）\n",
    "                    ssCnt[can] = 1\n",
    "                else:\n",
    "                    ssCnt[can] += 1\n",
    "    numItems = float(len(D))\n",
    "    retList = []        # 重新记录满足条件的数据值（即支持度大于阈值的数据）\n",
    "    supportData = {}    # 每个数据值的支持度\n",
    "    for key in ssCnt:\n",
    "        support = ssCnt[key] / numItems\n",
    "        if support >= minSupport:\n",
    "            retList.insert(0, key)\n",
    "        supportData[key] = support\n",
    "    return retList, supportData # 排除不符合支持度元素后的元素 每个元素支持度\n",
    "# 生成所有可以组合的集合\n",
    "# 频繁项集列表Lk 项集元素个数k  [frozenset({2, 3}), frozenset({3, 5})] -> [frozenset({2, 3, 5})]\n",
    "def aprioriGen(Lk, k):#构造多元参数，如{2，3}，{2，3，5}\n",
    "    retList = []\n",
    "    lenLk = len(Lk)\n",
    "    for i in range(lenLk): # 两层循环比较Lk中的每个元素与其它元素\n",
    "        for j in range(i+1, lenLk):\n",
    "            L1 = list(Lk[i])[:k-2]  # 将集合转为list后取值\n",
    "            #print('L1',L1)\n",
    "            L2 = list(Lk[j])[:k-2]\n",
    "            #print('L2',L2)\n",
    "            L1.sort(); L2.sort()        # 这里说明一下：该函数每次比较两个list的前k-2个元素，如果相同则求并集得到k个元素的集合\n",
    "            if L1==L2:\n",
    "                retList.append(Lk[i] | Lk[j]) # 求并集\n",
    "    return retList  # 返回频繁项集列表Ck\n",
    "# 封装所有步骤的函数\n",
    "# 返回 所有满足大于阈值的组合 集合支持度列表\n",
    "def apriori(dataSet, minSupport = 0):\n",
    "    D = list(map(set, dataSet)) # 转换列表记录为字典  [{1, 3, 4}, {2, 3, 5}, {1, 2, 3, 5}, {2, 5}]\n",
    "    print('D:',D)\n",
    "    C1 = createC1(dataSet)      # 将每个元素转会为frozenset字典    [frozenset({1}), frozenset({2}), frozenset({3}), frozenset({4}), frozenset({5})]\n",
    "    print('C1:',C1)\n",
    "    L1, supportData = scanD(D, C1, minSupport)  # 过滤数据\n",
    "    print('L1:',L1,supportData)\n",
    "    L = [L1]\n",
    "    print('L',L)\n",
    "    k = 2\n",
    "    while (len(L[k-2]) > 0):# 若仍有满足支持度的集合则继续做关联分析\n",
    "        print('L[k-2]:',L[k-2])\n",
    "        Ck = aprioriGen(L[k-2], k)  # Ck候选频繁项集\n",
    "        print('CK',Ck)\n",
    "        print('CK2',list(L[k-2][0])[:k-2])\n",
    "        Lk, supK = scanD(D, Ck, minSupport) # Lk频繁项集\n",
    "        supportData.update(supK) # 更新字典（把新出现的集合:支持度加入到supportData中）\n",
    "        print('LK:',Lk)\n",
    "        L.append(Lk)\n",
    "        print('L11:',L)\n",
    "        k += 1  # 每次新组合的元素都只增加了一个，所以k也+1（k表示元素个数）\n",
    "    return L, supportData\n",
    "\n",
    "dataSet = loadDataSet()\n",
    "L,suppData = apriori(dataSet)\n",
    "print('L',L)\n",
    "print('suppData:',suppData)\n"
   ]
  },
  {
   "cell_type": "code",
   "execution_count": 50,
   "metadata": {
    "ExecuteTime": {
     "end_time": "2020-06-11T06:24:54.375681Z",
     "start_time": "2020-06-11T06:24:54.350747Z"
    },
    "scrolled": false
   },
   "outputs": [
    {
     "name": "stdout",
     "output_type": "stream",
     "text": [
      "D: [{1, 3, 4}, {2, 3, 5}, {1, 2, 3, 5}, {2, 5}]\n",
      "C1: [frozenset({1}), frozenset({2}), frozenset({3}), frozenset({4}), frozenset({5})]\n",
      "L1: [frozenset({5}), frozenset({2}), frozenset({4}), frozenset({3}), frozenset({1})] {frozenset({1}): 0.5, frozenset({3}): 0.75, frozenset({4}): 0.25, frozenset({2}): 0.75, frozenset({5}): 0.75}\n",
      "L [[frozenset({5}), frozenset({2}), frozenset({4}), frozenset({3}), frozenset({1})]]\n",
      "L[k-2]: [frozenset({5}), frozenset({2}), frozenset({4}), frozenset({3}), frozenset({1})]\n",
      "CK [frozenset({2, 5}), frozenset({4, 5}), frozenset({3, 5}), frozenset({1, 5}), frozenset({2, 4}), frozenset({2, 3}), frozenset({1, 2}), frozenset({3, 4}), frozenset({1, 4}), frozenset({1, 3})]\n",
      "CK2 []\n",
      "LK: [frozenset({1, 2}), frozenset({1, 5}), frozenset({2, 3}), frozenset({3, 5}), frozenset({2, 5}), frozenset({1, 3}), frozenset({1, 4}), frozenset({3, 4})]\n",
      "L11: [[frozenset({5}), frozenset({2}), frozenset({4}), frozenset({3}), frozenset({1})], [frozenset({1, 2}), frozenset({1, 5}), frozenset({2, 3}), frozenset({3, 5}), frozenset({2, 5}), frozenset({1, 3}), frozenset({1, 4}), frozenset({3, 4})]]\n",
      "L[k-2]: [frozenset({1, 2}), frozenset({1, 5}), frozenset({2, 3}), frozenset({3, 5}), frozenset({2, 5}), frozenset({1, 3}), frozenset({1, 4}), frozenset({3, 4})]\n",
      "CK [frozenset({1, 2, 5}), frozenset({1, 2, 3}), frozenset({1, 2, 4}), frozenset({1, 3, 5}), frozenset({1, 4, 5}), frozenset({2, 3, 5}), frozenset({3, 4, 5}), frozenset({1, 3, 4})]\n",
      "CK2 [1]\n",
      "LK: [frozenset({1, 3, 5}), frozenset({1, 2, 3}), frozenset({1, 2, 5}), frozenset({2, 3, 5}), frozenset({1, 3, 4})]\n",
      "L11: [[frozenset({5}), frozenset({2}), frozenset({4}), frozenset({3}), frozenset({1})], [frozenset({1, 2}), frozenset({1, 5}), frozenset({2, 3}), frozenset({3, 5}), frozenset({2, 5}), frozenset({1, 3}), frozenset({1, 4}), frozenset({3, 4})], [frozenset({1, 3, 5}), frozenset({1, 2, 3}), frozenset({1, 2, 5}), frozenset({2, 3, 5}), frozenset({1, 3, 4})]]\n",
      "L[k-2]: [frozenset({1, 3, 5}), frozenset({1, 2, 3}), frozenset({1, 2, 5}), frozenset({2, 3, 5}), frozenset({1, 3, 4})]\n",
      "CK [frozenset({1, 3, 4, 5}), frozenset({1, 2, 3, 5})]\n",
      "CK2 [1, 3]\n",
      "LK: [frozenset({1, 2, 3, 5})]\n",
      "L11: [[frozenset({5}), frozenset({2}), frozenset({4}), frozenset({3}), frozenset({1})], [frozenset({1, 2}), frozenset({1, 5}), frozenset({2, 3}), frozenset({3, 5}), frozenset({2, 5}), frozenset({1, 3}), frozenset({1, 4}), frozenset({3, 4})], [frozenset({1, 3, 5}), frozenset({1, 2, 3}), frozenset({1, 2, 5}), frozenset({2, 3, 5}), frozenset({1, 3, 4})], [frozenset({1, 2, 3, 5})]]\n",
      "L[k-2]: [frozenset({1, 2, 3, 5})]\n",
      "CK []\n",
      "CK2 [1, 2, 3]\n",
      "LK: []\n",
      "L11: [[frozenset({5}), frozenset({2}), frozenset({4}), frozenset({3}), frozenset({1})], [frozenset({1, 2}), frozenset({1, 5}), frozenset({2, 3}), frozenset({3, 5}), frozenset({2, 5}), frozenset({1, 3}), frozenset({1, 4}), frozenset({3, 4})], [frozenset({1, 3, 5}), frozenset({1, 2, 3}), frozenset({1, 2, 5}), frozenset({2, 3, 5}), frozenset({1, 3, 4})], [frozenset({1, 2, 3, 5})], []]\n",
      "L[i] [frozenset({1, 2}), frozenset({1, 5}), frozenset({2, 3}), frozenset({3, 5}), frozenset({2, 5}), frozenset({1, 3}), frozenset({1, 4}), frozenset({3, 4})]\n",
      "freqSet: frozenset({1, 2}) 2\n",
      "H1 [frozenset({1}), frozenset({2})] 1\n",
      "frozenset({2}) --> frozenset({1}) conf: 0.3333333333333333\n",
      "frozenset({1}) --> frozenset({2}) conf: 0.5\n",
      "L[i] [frozenset({1, 2}), frozenset({1, 5}), frozenset({2, 3}), frozenset({3, 5}), frozenset({2, 5}), frozenset({1, 3}), frozenset({1, 4}), frozenset({3, 4})]\n",
      "freqSet: frozenset({1, 5}) 2\n",
      "H1 [frozenset({1}), frozenset({5})] 1\n",
      "frozenset({5}) --> frozenset({1}) conf: 0.3333333333333333\n",
      "frozenset({1}) --> frozenset({5}) conf: 0.5\n",
      "L[i] [frozenset({1, 2}), frozenset({1, 5}), frozenset({2, 3}), frozenset({3, 5}), frozenset({2, 5}), frozenset({1, 3}), frozenset({1, 4}), frozenset({3, 4})]\n",
      "freqSet: frozenset({2, 3}) 2\n",
      "H1 [frozenset({2}), frozenset({3})] 1\n",
      "frozenset({3}) --> frozenset({2}) conf: 0.6666666666666666\n",
      "frozenset({2}) --> frozenset({3}) conf: 0.6666666666666666\n",
      "L[i] [frozenset({1, 2}), frozenset({1, 5}), frozenset({2, 3}), frozenset({3, 5}), frozenset({2, 5}), frozenset({1, 3}), frozenset({1, 4}), frozenset({3, 4})]\n",
      "freqSet: frozenset({3, 5}) 2\n",
      "H1 [frozenset({3}), frozenset({5})] 1\n",
      "frozenset({5}) --> frozenset({3}) conf: 0.6666666666666666\n",
      "frozenset({3}) --> frozenset({5}) conf: 0.6666666666666666\n",
      "L[i] [frozenset({1, 2}), frozenset({1, 5}), frozenset({2, 3}), frozenset({3, 5}), frozenset({2, 5}), frozenset({1, 3}), frozenset({1, 4}), frozenset({3, 4})]\n",
      "freqSet: frozenset({2, 5}) 2\n",
      "H1 [frozenset({2}), frozenset({5})] 1\n",
      "frozenset({5}) --> frozenset({2}) conf: 1.0\n",
      "frozenset({2}) --> frozenset({5}) conf: 1.0\n",
      "L[i] [frozenset({1, 2}), frozenset({1, 5}), frozenset({2, 3}), frozenset({3, 5}), frozenset({2, 5}), frozenset({1, 3}), frozenset({1, 4}), frozenset({3, 4})]\n",
      "freqSet: frozenset({1, 3}) 2\n",
      "H1 [frozenset({1}), frozenset({3})] 1\n",
      "frozenset({3}) --> frozenset({1}) conf: 0.6666666666666666\n",
      "frozenset({1}) --> frozenset({3}) conf: 1.0\n",
      "L[i] [frozenset({1, 2}), frozenset({1, 5}), frozenset({2, 3}), frozenset({3, 5}), frozenset({2, 5}), frozenset({1, 3}), frozenset({1, 4}), frozenset({3, 4})]\n",
      "freqSet: frozenset({1, 4}) 2\n",
      "H1 [frozenset({1}), frozenset({4})] 1\n",
      "frozenset({4}) --> frozenset({1}) conf: 1.0\n",
      "frozenset({1}) --> frozenset({4}) conf: 0.5\n",
      "L[i] [frozenset({1, 2}), frozenset({1, 5}), frozenset({2, 3}), frozenset({3, 5}), frozenset({2, 5}), frozenset({1, 3}), frozenset({1, 4}), frozenset({3, 4})]\n",
      "freqSet: frozenset({3, 4}) 2\n",
      "H1 [frozenset({3}), frozenset({4})] 1\n",
      "frozenset({4}) --> frozenset({3}) conf: 1.0\n",
      "frozenset({3}) --> frozenset({4}) conf: 0.3333333333333333\n",
      "L[i] [frozenset({1, 3, 5}), frozenset({1, 2, 3}), frozenset({1, 2, 5}), frozenset({2, 3, 5}), frozenset({1, 3, 4})]\n",
      "freqSet: frozenset({1, 3, 5}) 3\n",
      "H1 [frozenset({1}), frozenset({3}), frozenset({5})] 1\n",
      "frozenset({5}) --> frozenset({1, 3}) conf: 0.3333333333333333\n",
      "frozenset({3}) --> frozenset({1, 5}) conf: 0.3333333333333333\n",
      "frozenset({1}) --> frozenset({3, 5}) conf: 0.5\n",
      "L[i] [frozenset({1, 3, 5}), frozenset({1, 2, 3}), frozenset({1, 2, 5}), frozenset({2, 3, 5}), frozenset({1, 3, 4})]\n",
      "freqSet: frozenset({1, 2, 3}) 3\n",
      "H1 [frozenset({1}), frozenset({2}), frozenset({3})] 1\n",
      "frozenset({3}) --> frozenset({1, 2}) conf: 0.3333333333333333\n",
      "frozenset({2}) --> frozenset({1, 3}) conf: 0.3333333333333333\n",
      "frozenset({1}) --> frozenset({2, 3}) conf: 0.5\n",
      "L[i] [frozenset({1, 3, 5}), frozenset({1, 2, 3}), frozenset({1, 2, 5}), frozenset({2, 3, 5}), frozenset({1, 3, 4})]\n",
      "freqSet: frozenset({1, 2, 5}) 3\n",
      "H1 [frozenset({1}), frozenset({2}), frozenset({5})] 1\n",
      "frozenset({5}) --> frozenset({1, 2}) conf: 0.3333333333333333\n",
      "frozenset({2}) --> frozenset({1, 5}) conf: 0.3333333333333333\n",
      "frozenset({1}) --> frozenset({2, 5}) conf: 0.5\n",
      "L[i] [frozenset({1, 3, 5}), frozenset({1, 2, 3}), frozenset({1, 2, 5}), frozenset({2, 3, 5}), frozenset({1, 3, 4})]\n",
      "freqSet: frozenset({2, 3, 5}) 3\n",
      "H1 [frozenset({2}), frozenset({3}), frozenset({5})] 1\n",
      "frozenset({5}) --> frozenset({2, 3}) conf: 0.6666666666666666\n",
      "frozenset({3}) --> frozenset({2, 5}) conf: 0.6666666666666666\n",
      "frozenset({2}) --> frozenset({3, 5}) conf: 0.6666666666666666\n",
      "L[i] [frozenset({1, 3, 5}), frozenset({1, 2, 3}), frozenset({1, 2, 5}), frozenset({2, 3, 5}), frozenset({1, 3, 4})]\n",
      "freqSet: frozenset({1, 3, 4}) 3\n",
      "H1 [frozenset({1}), frozenset({3}), frozenset({4})] 1\n",
      "frozenset({4}) --> frozenset({1, 3}) conf: 1.0\n",
      "frozenset({3}) --> frozenset({1, 4}) conf: 0.3333333333333333\n",
      "frozenset({1}) --> frozenset({3, 4}) conf: 0.5\n",
      "L[i] [frozenset({1, 2, 3, 5})]\n",
      "freqSet: frozenset({1, 2, 3, 5}) 4\n",
      "H1 [frozenset({1}), frozenset({2}), frozenset({3}), frozenset({5})] 1\n",
      "frozenset({3, 5}) --> frozenset({1, 2}) conf: 0.5\n",
      "frozenset({2, 5}) --> frozenset({1, 3}) conf: 0.3333333333333333\n",
      "frozenset({2, 3}) --> frozenset({1, 5}) conf: 0.5\n",
      "frozenset({1, 5}) --> frozenset({2, 3}) conf: 1.0\n",
      "frozenset({1, 3}) --> frozenset({2, 5}) conf: 0.5\n",
      "frozenset({1, 2}) --> frozenset({3, 5}) conf: 1.0\n",
      "frozenset({5}) --> frozenset({1, 2, 3}) conf: 0.3333333333333333\n",
      "frozenset({3}) --> frozenset({1, 2, 5}) conf: 0.3333333333333333\n",
      "frozenset({2}) --> frozenset({1, 3, 5}) conf: 0.3333333333333333\n",
      "frozenset({1}) --> frozenset({2, 3, 5}) conf: 0.5\n",
      "rules [(frozenset({2}), frozenset({1}), 0.3333333333333333), (frozenset({1}), frozenset({2}), 0.5), (frozenset({5}), frozenset({1}), 0.3333333333333333), (frozenset({1}), frozenset({5}), 0.5), (frozenset({3}), frozenset({2}), 0.6666666666666666), (frozenset({2}), frozenset({3}), 0.6666666666666666), (frozenset({5}), frozenset({3}), 0.6666666666666666), (frozenset({3}), frozenset({5}), 0.6666666666666666), (frozenset({5}), frozenset({2}), 1.0), (frozenset({2}), frozenset({5}), 1.0), (frozenset({3}), frozenset({1}), 0.6666666666666666), (frozenset({1}), frozenset({3}), 1.0), (frozenset({4}), frozenset({1}), 1.0), (frozenset({1}), frozenset({4}), 0.5), (frozenset({4}), frozenset({3}), 1.0), (frozenset({3}), frozenset({4}), 0.3333333333333333), (frozenset({5}), frozenset({1, 3}), 0.3333333333333333), (frozenset({3}), frozenset({1, 5}), 0.3333333333333333), (frozenset({1}), frozenset({3, 5}), 0.5), (frozenset({3}), frozenset({1, 2}), 0.3333333333333333), (frozenset({2}), frozenset({1, 3}), 0.3333333333333333), (frozenset({1}), frozenset({2, 3}), 0.5), (frozenset({5}), frozenset({1, 2}), 0.3333333333333333), (frozenset({2}), frozenset({1, 5}), 0.3333333333333333), (frozenset({1}), frozenset({2, 5}), 0.5), (frozenset({5}), frozenset({2, 3}), 0.6666666666666666), (frozenset({3}), frozenset({2, 5}), 0.6666666666666666), (frozenset({2}), frozenset({3, 5}), 0.6666666666666666), (frozenset({4}), frozenset({1, 3}), 1.0), (frozenset({3}), frozenset({1, 4}), 0.3333333333333333), (frozenset({1}), frozenset({3, 4}), 0.5), (frozenset({3, 5}), frozenset({1, 2}), 0.5), (frozenset({2, 5}), frozenset({1, 3}), 0.3333333333333333), (frozenset({2, 3}), frozenset({1, 5}), 0.5), (frozenset({1, 5}), frozenset({2, 3}), 1.0), (frozenset({1, 3}), frozenset({2, 5}), 0.5), (frozenset({1, 2}), frozenset({3, 5}), 1.0), (frozenset({5}), frozenset({1, 2, 3}), 0.3333333333333333), (frozenset({3}), frozenset({1, 2, 5}), 0.3333333333333333), (frozenset({2}), frozenset({1, 3, 5}), 0.3333333333333333), (frozenset({1}), frozenset({2, 3, 5}), 0.5)]\n"
     ]
    }
   ],
   "source": [
    "# 获取关联规则的封装函数\n",
    "# 对规则进行评估 获得满足最小可信度的关联规则\n",
    "def calcConf(freqSet, H, supportData, brl, minConf=0.7):\n",
    "    prunedH = []  # 创建一个新的列表去返回\n",
    "    for conseq in H:\n",
    "        conf = supportData[freqSet]/supportData[freqSet-conseq]  # 计算置信度\n",
    "        if conf >= minConf:\n",
    "            print(freqSet-conseq,'-->',conseq,'conf:',conf)\n",
    "            brl.append((freqSet-conseq, conseq, conf))\n",
    "            prunedH.append(conseq)\n",
    "    return prunedH\n",
    "\n",
    "# 生成候选规则集合\n",
    "def rulesFromConseq(freqSet, H, supportData, brl, minConf=0):\n",
    "    m = len(H[0])\n",
    "    if (len(freqSet) > (m + 1)): # 尝试进一步合并\n",
    "        Hmp1 = aprioriGen(H, m+1) # 将单个集合元素两两合并\n",
    "        Hmp1 = calcConf(freqSet, Hmp1, supportData, brl, minConf)\n",
    "        if (len(Hmp1) > 1):    #need at least two sets to merge\n",
    "            rulesFromConseq(freqSet, Hmp1, supportData, brl, minConf)\n",
    "\n",
    "def generateRules(L, supportData, minConf=0):  # supportData 是一个字典\n",
    "    bigRuleList = []\n",
    "    for i in range(1, len(L)):  # 从为2个元素的集合开始\n",
    "        for freqSet in L[i]:\n",
    "            # 只包含单个元素的集合列表\n",
    "            print('L[i]',L[i])\n",
    "            print('freqSet:',freqSet,len(freqSet))\n",
    "            H1 = [frozenset([item]) for item in freqSet]    # frozenset({2, 3}) 转换为 [frozenset({2}), frozenset({3})]\n",
    "            print('H1',H1,len(H1[0]))\n",
    "            # 如果集合元素大于2个，则需要处理才能获得规则\n",
    "            if (i > 1):\n",
    "                rulesFromConseq(freqSet, H1, supportData, bigRuleList, minConf) # 集合元素 集合拆分后的列表 。。。\n",
    "            else:\n",
    "                calcConf(freqSet, H1, supportData, bigRuleList, minConf)#当整个序列长度为2的时候直接先调用calcConf函数\n",
    "    return bigRuleList\n",
    "dataSet = loadDataSet()\n",
    "L,suppData = apriori(dataSet,minSupport=0)\n",
    "rules = generateRules(L,suppData,minConf=0)\n",
    "# rules = generateRules(L,suppData,minConf=0.5)\n",
    "print('rules',rules)\n"
   ]
  },
  {
   "cell_type": "code",
   "execution_count": 3,
   "metadata": {
    "ExecuteTime": {
     "end_time": "2020-06-11T01:31:08.455163Z",
     "start_time": "2020-06-11T01:31:08.447157Z"
    }
   },
   "outputs": [
    {
     "name": "stdout",
     "output_type": "stream",
     "text": [
      "<class 'tuple'>\n",
      "<class 'list'>\n",
      "<class 'dict'>\n",
      "<class 'set'>\n",
      "<class 'frozenset'>\n",
      "(1, 23, 4)\n",
      "[1, 2, 5]\n",
      "{1: 's2', 2: 's4'}\n",
      "{1, 2, 3, 1.4}\n",
      "frozenset({1, 2, 3})\n"
     ]
    }
   ],
   "source": [
    "\n",
    "s1=(1,23,4)\n",
    "\n",
    "print(type(s1))    #tuple 元组\n",
    "\n",
    "s2=[1,2,5]\n",
    "\n",
    "print(type(s2))    #<class 'list'>,list 列表\n",
    "\n",
    "s3={1:'s2',2:'s4'}\n",
    "\n",
    "print(type(s3))    #<class 'dict'> dict字典\n",
    "\n",
    "s4={1,2,3,1,1.4}\n",
    "\n",
    "print(type(s4))    #<class 'set'>,集合，可变集合，内容不可以重复\n",
    "\n",
    "s5=frozenset({1,2,3})\n",
    "\n",
    "print(type(s5))    #<class 'frozenset'> 不变集合，内容不可以重复\n",
    "\n",
    "print(s1)\n",
    "print(s2)\n",
    "print(s3)\n",
    "print(s4)\n",
    "print(s5)\n"
   ]
  },
  {
   "cell_type": "code",
   "execution_count": 5,
   "metadata": {
    "ExecuteTime": {
     "end_time": "2020-06-11T01:33:15.644325Z",
     "start_time": "2020-06-11T01:33:15.639339Z"
    }
   },
   "outputs": [
    {
     "name": "stdout",
     "output_type": "stream",
     "text": [
      "\n",
      "set()\n",
      "{'o', 1, 5, 8, 'h', 19, 'l', 'e'}\n",
      "{'o', 'h', 'l', 'e'}\n",
      "<class 'dict'>\n",
      "{1, 2, 3}\n"
     ]
    }
   ],
   "source": [
    "\n",
    "#集合,set为可变集合\n",
    "\n",
    "s=set('hello')\n",
    "\n",
    "print()\n",
    "\n",
    "s2={1,5,8,19}\n",
    "\n",
    "print(s&s2)#交集\n",
    "\n",
    "print(s2|s)#并集\n",
    "\n",
    "print(s-s2)#差集\n",
    "\n",
    "print(type({}))#<class 'dict'>\n",
    "\n",
    "#dict3={[1,2,3]:'hello'}此方法不能创建字典，由于列表是可变的，不可以hash\n",
    "\n",
    "print(set([1,2,1,2,3]))#set是可变集合，而集合内数据是不可重复的，所以输出：{1, 2, 3}\n",
    "\n"
   ]
  },
  {
   "cell_type": "code",
   "execution_count": 19,
   "metadata": {
    "ExecuteTime": {
     "end_time": "2020-06-11T02:29:45.105762Z",
     "start_time": "2020-06-11T02:29:45.100775Z"
    }
   },
   "outputs": [
    {
     "data": {
      "text/plain": [
       "frozenset({'b', 'h', 'k', 'o', 'p', 's'})"
      ]
     },
     "execution_count": 19,
     "metadata": {},
     "output_type": "execute_result"
    }
   ],
   "source": [
    "t=frozenset('bookshop')\n",
    "t"
   ]
  },
  {
   "cell_type": "code",
   "execution_count": 31,
   "metadata": {
    "ExecuteTime": {
     "end_time": "2020-06-11T02:44:16.722219Z",
     "start_time": "2020-06-11T02:44:16.716237Z"
    }
   },
   "outputs": [
    {
     "data": {
      "text/plain": [
       "[1, 2]"
      ]
     },
     "execution_count": 31,
     "metadata": {},
     "output_type": "execute_result"
    }
   ],
   "source": [
    "a=[1,2]\n",
    "a"
   ]
  },
  {
   "cell_type": "code",
   "execution_count": 32,
   "metadata": {
    "ExecuteTime": {
     "end_time": "2020-06-11T02:44:23.195966Z",
     "start_time": "2020-06-11T02:44:23.190980Z"
    }
   },
   "outputs": [
    {
     "data": {
      "text/plain": [
       "[]"
      ]
     },
     "execution_count": 32,
     "metadata": {},
     "output_type": "execute_result"
    }
   ],
   "source": [
    "a[:0]"
   ]
  },
  {
   "cell_type": "code",
   "execution_count": null,
   "metadata": {},
   "outputs": [],
   "source": []
  }
 ],
 "metadata": {
  "kernelspec": {
   "display_name": "Python 3",
   "language": "python",
   "name": "python3"
  },
  "language_info": {
   "codemirror_mode": {
    "name": "ipython",
    "version": 3
   },
   "file_extension": ".py",
   "mimetype": "text/x-python",
   "name": "python",
   "nbconvert_exporter": "python",
   "pygments_lexer": "ipython3",
   "version": "3.7.4"
  }
 },
 "nbformat": 4,
 "nbformat_minor": 2
}
